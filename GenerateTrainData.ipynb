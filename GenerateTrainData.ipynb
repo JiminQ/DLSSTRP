{
 "cells": [
  {
   "cell_type": "code",
   "execution_count": 1,
   "metadata": {
    "scrolled": true
   },
   "outputs": [
    {
     "name": "stderr",
     "output_type": "stream",
     "text": [
      "C:\\Users\\wyw\\Miniconda3\\lib\\site-packages\\h5py\\__init__.py:36: FutureWarning: Conversion of the second argument of issubdtype from `float` to `np.floating` is deprecated. In future, it will be treated as `np.float64 == np.dtype(float).type`.\n",
      "  from ._conv import register_converters as _register_converters\n",
      "Using TensorFlow backend.\n"
     ]
    }
   ],
   "source": [
    "import os\n",
    "import numpy as np\n",
    "import cv2\n",
    "from skimage.io import imread\n",
    "from skimage.io import imsave\n",
    "from skimage.util import random_noise\n",
    "from keras.preprocessing.image import ImageDataGenerator, array_to_img, img_to_array, load_img\n",
    "from PIL import Image\n",
    "from skimage.color import rgb2gray"
   ]
  },
  {
   "cell_type": "code",
   "execution_count": 17,
   "metadata": {},
   "outputs": [],
   "source": [
    "def AugmentImage(img, folder_name, image_prefix, N):\n",
    "    \n",
    "    \"\"\" This function uses the keras ImageDataGenerator for image augmentation.\n",
    "    \n",
    "    Arguments:\n",
    "    \n",
    "    img : Image that needs to be augmented\n",
    "    folder_name : name of the folder where the images will be saved\n",
    "    image_prefix : prefix for the saved images\n",
    "    N : number of images that will be created through augmentation\n",
    "    \n",
    "    Returns:\n",
    "    \n",
    "    N augmented images with 'image_prefix' saved in 'folder_name'\n",
    "    \n",
    "    Raises:\n",
    "    \n",
    "    Error when input data type is incorrect\n",
    "    \n",
    "    \"\"\"\n",
    "    \n",
    "    assert type(folder_name) == str, ('Wrong Data type', 'folder_name must be a string')\n",
    "    assert type(image_prefix) == str, ('Wrong Data type', 'image_prefix must be a string')\n",
    "    assert type(N) == int, ('Wrong Data type', 'N must be an integer')\n",
    "    \n",
    "    directory = './Multislice'+\"/\"+image_prefix+\"/\"+folder_name\n",
    "    \n",
    "    if not os.path.exists(directory):\n",
    "        os.makedirs(directory)\n",
    "    \n",
    "    datagen = ImageDataGenerator(rotation_range=10,\n",
    "                                 shear_range=0.2,\n",
    "                                 zoom_range=[0.7,1],\n",
    "                                 rescale=1.0/225,\n",
    "                                 horizontal_flip=True, \n",
    "                                 vertical_flip=True, \n",
    "                                 fill_mode='constant', \n",
    "                                 cval = 0.0)\n",
    "\n",
    "    \n",
    "    x = img_to_array(img)  # this is a Numpy array with shape (64, 64, 1)\n",
    "    x = x.reshape((1,) + x.shape)  # this is a Numpy array with shape (1, 64, 64, 1)\n",
    "\n",
    "    i = 0\n",
    "    #save the image data into each type of defect directory \n",
    "    for batch in datagen.flow(x, batch_size = 1,\n",
    "                              save_to_dir = './Multislice'+'/'+image_prefix+'/'+folder_name, save_prefix = image_prefix, save_format = 'png'):\n",
    "        i += 1\n",
    "        if i > N:\n",
    "            break  # otherwise the generator would loop indefinitely\n",
    "    \n",
    "    return"
   ]
  },
  {
   "cell_type": "code",
   "execution_count": 18,
   "metadata": {},
   "outputs": [],
   "source": [
    "def AddNoiseImage(img, folder_name, image):\n",
    "    \n",
    "    #img is the augemented data you read in\n",
    "    #folder_name is the name of the folder you want to store all the noisy images\n",
    "    #image prefix: defect type...\n",
    "    \n",
    "    assert type(folder_name) == str, ('Wrong Data type', 'folder_name must be a string')\n",
    "    assert type(image) == str, ('Wrong Data type', 'image_prefix must be a string')\n",
    "    \n",
    "    directory = './Multislice' +'/'+ folder_name+'/'+folder_name+'_Augmented'+'/'+folder_name+'_noise'\n",
    "    \n",
    "    if not os.path.exists(directory):\n",
    "        os.makedirs(directory)\n",
    "    \n",
    "    img_grey=rgb2gray(img)\n",
    "    img_gauss=random_noise(img_grey,mode='gaussian',mean=0.,var=0.01)\n",
    "    img_sp=random_noise(img_grey,mode='s&p',salt_vs_pepper=0.5)\n",
    "    img_poisson=random_noise(img_grey,mode='poisson')\n",
    "    \n",
    "    imsave(directory+'/'+'gauss_'+image,img_gauss)\n",
    "    imsave(directory+'/'+'s&p_'+image,img_sp)\n",
    "    imsave(directory+'/'+'poisson'+image,img_poisson)\n",
    "    \n",
    "    return "
   ]
  },
  {
   "cell_type": "code",
   "execution_count": 19,
   "metadata": {},
   "outputs": [
    {
     "name": "stderr",
     "output_type": "stream",
     "text": [
      "C:\\Users\\wyw\\Miniconda3\\lib\\site-packages\\skimage\\util\\dtype.py:122: UserWarning: Possible precision loss when converting from float64 to uint16\n",
      "  .format(dtypeobj_in, dtypeobj_out))\n"
     ]
    }
   ],
   "source": [
    "# the path of the folder includes different type of defects (Multislice)\n",
    "path = \"./Multislice\"\n",
    "folders=os.listdir(path) # get all subfolders' names (all types of defects' names)\n",
    "for folder in folders:  #traversing all folders(types of defects) in the folder of MULTISLICE\n",
    "    path = \"./Multislice\"+\"/\"+folder\n",
    "    files=os.listdir(path)\n",
    "    for file in files: #traversing all raw_image in the folder of different defect types\n",
    "        if file not in (folder+\"_Augmented\",'.DS_Store'):\n",
    "            img=Image.open(path+'/'+file).convert('L') # loading the image\n",
    "            # Augmenting using the function above\n",
    "            AugmentImage(img, folder+'_Augmented', folder, 200)\n",
    "    # the path of data_Augmented folder\n",
    "    noisy_path = \"./Multislice\"+\"/\"+folder+'/'+folder+'_Augmented'\n",
    "    # get all augmented image\n",
    "    image=os.listdir(noisy_path)\n",
    "    for i in image:\n",
    "        if i not in ('noisydata','.DS_Store'):\n",
    "            img=imread(noisy_path+'/'+i)\n",
    "            AddNoiseImage(img, folder, i)\n",
    "            \n",
    "        else: \n",
    "            pass\n",
    "        \n",
    "       "
   ]
  },
  {
   "cell_type": "code",
   "execution_count": 6,
   "metadata": {},
   "outputs": [],
   "source": [
    "image=os.listdir(\"./Multislice/Mo/Mo_Augmented\")"
   ]
  },
  {
   "cell_type": "code",
   "execution_count": 8,
   "metadata": {},
   "outputs": [],
   "source": [
    "for i in image:\n",
    "    img=imread(\"./Multislice/Mo/Mo_Augmented\"+'/'+i)"
   ]
  },
  {
   "cell_type": "code",
   "execution_count": 10,
   "metadata": {},
   "outputs": [
    {
     "data": {
      "text/plain": [
       "(64, 64)"
      ]
     },
     "execution_count": 10,
     "metadata": {},
     "output_type": "execute_result"
    }
   ],
   "source": [
    "img.shape"
   ]
  },
  {
   "cell_type": "code",
   "execution_count": null,
   "metadata": {},
   "outputs": [],
   "source": []
  }
 ],
 "metadata": {
  "kernelspec": {
   "display_name": "Python 3",
   "language": "python",
   "name": "python3"
  },
  "language_info": {
   "codemirror_mode": {
    "name": "ipython",
    "version": 3
   },
   "file_extension": ".py",
   "mimetype": "text/x-python",
   "name": "python",
   "nbconvert_exporter": "python",
   "pygments_lexer": "ipython3",
   "version": "3.6.3"
  }
 },
 "nbformat": 4,
 "nbformat_minor": 2
}
