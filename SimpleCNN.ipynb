{
 "cells": [
  {
   "cell_type": "markdown",
   "metadata": {},
   "source": [
    "## Build train and test data list"
   ]
  },
  {
   "cell_type": "code",
   "execution_count": 1,
   "metadata": {},
   "outputs": [
    {
     "name": "stderr",
     "output_type": "stream",
     "text": [
      "C:\\Users\\Sarthak\\Anaconda3\\lib\\site-packages\\h5py\\__init__.py:36: FutureWarning: Conversion of the second argument of issubdtype from `float` to `np.floating` is deprecated. In future, it will be treated as `np.float64 == np.dtype(float).type`.\n",
      "  from ._conv import register_converters as _register_converters\n",
      "Using TensorFlow backend.\n"
     ]
    }
   ],
   "source": [
    "from __future__ import print_function\n",
    "import keras\n",
    "from keras.preprocessing.image import array_to_img, img_to_array, load_img\n",
    "from keras.layers import Dense, Flatten\n",
    "from keras.layers import Conv2D, MaxPooling2D, GlobalAveragePooling2D, ZeroPadding2D\n",
    "from keras.models import Sequential\n",
    "from keras.models import model_from_json, load_model\n",
    "from keras import backend as K\n",
    "import matplotlib.pylab as plt\n",
    "from sklearn.model_selection import train_test_split\n",
    "from skimage.feature import blob_log\n",
    "\n",
    "import os\n",
    "import glob\n",
    "import numpy as np\n",
    "import cv2\n",
    "from collections import OrderedDict\n",
    "import pickle\n",
    "\n",
    "\"\"\"Our class activation map module\"\"\"\n",
    "import ClassActMap as cmap"
   ]
  },
  {
   "cell_type": "code",
   "execution_count": 2,
   "metadata": {},
   "outputs": [],
   "source": [
    "## read in all the augmented and noisy images\n",
    "path = \"./Multislice\"\n",
    "folders=os.listdir(path) \n",
    "data=[]    #all the images will be stored in this list.\n",
    "defecttype=[]    #all the defect type corresponding to each image store in this list\n",
    "defects={'Sw':0,'Mo':1,'W2s2':2,'Vw':3,'Vs2':4,'Ws':5}     # each int represents a defect type\n",
    "\n",
    "for folder in folders:  #traversing all subfolders(types of defects) in MULTISLICE\n",
    "    if '.' in folder:   #make sure it will not traverse file like '.DS_store'\n",
    "        continue\n",
    "    \n",
    "    noisy_path = \"./Multislice\"+\"/\"+folder+'/'+folder+'_Augmented' \n",
    "    filelist = glob.glob(noisy_path+'/*.png')\n",
    "    data.extend([img_to_array(load_img(fname, grayscale = True)) for fname in filelist])\n",
    "    defecttype.extend([defects[folder]]*len(filelist))"
   ]
  },
  {
   "cell_type": "code",
   "execution_count": 130,
   "metadata": {},
   "outputs": [
    {
     "data": {
      "text/plain": [
       "(51125, 64, 64, 1)"
      ]
     },
     "execution_count": 130,
     "metadata": {},
     "output_type": "execute_result"
    }
   ],
   "source": [
    "## there should be 51125 images, each image with size of (64,64,1)\n",
    "np.array(data).shape"
   ]
  },
  {
   "cell_type": "code",
   "execution_count": 3,
   "metadata": {},
   "outputs": [],
   "source": [
    "#train test split - 80% train and 20% test set\n",
    "\n",
    "x_train, x_test, y_train, y_test = train_test_split(np.array(data), defecttype, test_size = 0.2, random_state = 28956)"
   ]
  },
  {
   "cell_type": "markdown",
   "metadata": {},
   "source": [
    "## Train CNN"
   ]
  },
  {
   "cell_type": "code",
   "execution_count": 4,
   "metadata": {},
   "outputs": [],
   "source": [
    "batch_size = 128\n",
    "num_classes = 6\n",
    "\n",
    "\n",
    "# input image dimensions\n",
    "img_x, img_y = 64, 64\n",
    "input_shape = (img_x, img_y, 1)\n",
    "\n",
    "# Normalizing data\n",
    "x_train = (x_train - np.amin(x_train))/(np.amax(x_train) - np.amin(x_train))\n",
    "x_test = (x_test - np.amin(x_test))/(np.amax(x_test) - np.amin(x_test))\n",
    "\n",
    "y_train = keras.utils.to_categorical(y_train, num_classes)\n",
    "y_test = keras.utils.to_categorical(y_test, num_classes)"
   ]
  },
  {
   "cell_type": "code",
   "execution_count": 253,
   "metadata": {},
   "outputs": [],
   "source": [
    "model = Sequential()\n",
    "\n",
    "##### add layers to CNN model: \n",
    "model.add(Conv2D(16,kernel_size=(6,6),strides=(1,1),activation='relu',input_shape=input_shape))\n",
    "model.add(MaxPooling2D(pool_size=(2,2),strides=(2,2)))\n",
    "\n",
    "#model.add(Conv2D(16,(5,5),activation='relu'))\n",
    "#model.add(Conv2D(16,(3,3),activation='relu'))\n",
    "#model.add(MaxPooling2D(pool_size=(2,2),strides=(2,2)))\n",
    "\n",
    "model.add(Conv2D(32,(6,6),activation='relu'))\n",
    "#model.add(Conv2D(32,(3,3),activation='relu'))\n",
    "model.add(MaxPooling2D(pool_size=(2,2),strides=(2,2)))\n",
    "\n",
    "model.add(Conv2D(64,(6,6),activation='relu'))\n",
    "model.add(MaxPooling2D(pool_size=(2,2),strides=(2,2)))\n",
    "\n",
    "model.add(GlobalAveragePooling2D())\n",
    "model.add(Dense(num_classes,activation='softmax'))\n",
    "######\n",
    "\n",
    "\n",
    "model.compile(loss=keras.losses.categorical_crossentropy,\n",
    "             optimizer=keras.optimizers.Adam(lr=0.001),\n",
    "             metrics=['accuracy'])"
   ]
  },
  {
   "cell_type": "code",
   "execution_count": 242,
   "metadata": {},
   "outputs": [],
   "source": [
    "\"\"\"This is the model with zero padding included\"\"\"\n",
    "model = Sequential()\n",
    "\n",
    "##### add layers to CNN model: \n",
    "model.add(ZeroPadding2D((1,1),input_shape=input_shape))\n",
    "model.add(Conv2D(8,kernel_size=(7,7),strides=(1,1),activation='relu',input_shape=input_shape))\n",
    "#model.add(Conv2D(8,(6,6),activation='relu'))\n",
    "model.add(MaxPooling2D(pool_size=(2,2),strides=(2,2)))\n",
    "\n",
    "model.add(ZeroPadding2D((1, 1)))\n",
    "model.add(Conv2D(16,(5,5),activation='relu'))\n",
    "#model.add(Conv2D(16,(5,5),activation='relu'))\n",
    "model.add(MaxPooling2D(pool_size=(2,2),strides=(2,2)))\n",
    "\n",
    "model.add(ZeroPadding2D((1, 1)))\n",
    "model.add(Conv2D(32,(3,3),activation='relu'))\n",
    "#model.add(Conv2D(32,(3,3),activation='relu'))\n",
    "model.add(MaxPooling2D(pool_size=(2,2),strides=(2,2)))\n",
    "\n",
    "model.add(ZeroPadding2D((1, 1)))\n",
    "model.add(Conv2D(64,(3,3),activation='relu'))\n",
    "model.add(MaxPooling2D(pool_size=(2,2),strides=(2,2)))\n",
    "\n",
    "model.add(GlobalAveragePooling2D())\n",
    "model.add(Dense(num_classes,activation='softmax'))\n",
    "######\n",
    "\n",
    "\n",
    "model.compile(loss=keras.losses.categorical_crossentropy,\n",
    "             optimizer=keras.optimizers.Adam(lr=0.001),\n",
    "             metrics=['accuracy'])"
   ]
  },
  {
   "cell_type": "code",
   "execution_count": 234,
   "metadata": {},
   "outputs": [],
   "source": [
    "model = Sequential()\n",
    "\n",
    "##### add layers to CNN model: \n",
    "model.add(ZeroPadding2D((1,1),input_shape=input_shape))\n",
    "model.add(Conv2D(8,kernel_size=(3,3),strides=(1,1),activation='relu'))\n",
    "model.add(ZeroPadding2D((1, 1)))\n",
    "model.add(Conv2D(8,(3,3),activation='relu'))\n",
    "model.add(MaxPooling2D(pool_size=(2,2),strides=(2,2)))\n",
    "\n",
    "model.add(ZeroPadding2D((1, 1)))\n",
    "model.add(Conv2D(16,(3,3),activation='relu'))\n",
    "model.add(ZeroPadding2D((1, 1)))\n",
    "model.add(Conv2D(16,(3,3),activation='relu'))\n",
    "model.add(MaxPooling2D(pool_size=(2,2),strides=(2,2)))\n",
    "\n",
    "model.add(ZeroPadding2D((1, 1)))\n",
    "model.add(Conv2D(32,(3,3),activation='relu'))\n",
    "model.add(ZeroPadding2D((1, 1)))\n",
    "model.add(Conv2D(32,(3,3),activation='relu'))\n",
    "model.add(MaxPooling2D(pool_size=(2,2),strides=(2,2)))\n",
    "\n",
    "model.add(ZeroPadding2D((1, 1)))          \n",
    "model.add(Conv2D(32,(3,3),activation='relu'))\n",
    "model.add(ZeroPadding2D((1, 1)))\n",
    "model.add(Conv2D(32,(3,3),activation='relu'))\n",
    "model.add(MaxPooling2D(pool_size=(2,2),strides=(2,2)))\n",
    "\n",
    "model.add(ZeroPadding2D((1, 1)))          \n",
    "model.add(Conv2D(64,(3,3),activation='relu'))\n",
    "model.add(ZeroPadding2D((1, 1)))\n",
    "model.add(Conv2D(64,(1,1),activation='relu'))\n",
    "model.add(MaxPooling2D(pool_size=(2,2),strides=(2,2)))\n",
    "\n",
    "model.add(GlobalAveragePooling2D())\n",
    "model.add(Dense(num_classes,activation='softmax'))\n",
    "######\n",
    "\n",
    "\n",
    "model.compile(loss=keras.losses.categorical_crossentropy,\n",
    "             optimizer=keras.optimizers.Adam(lr=0.001),\n",
    "             metrics=['accuracy'])"
   ]
  },
  {
   "cell_type": "code",
   "execution_count": 254,
   "metadata": {
    "scrolled": true
   },
   "outputs": [
    {
     "name": "stdout",
     "output_type": "stream",
     "text": [
      "Train on 40900 samples, validate on 10225 samples\n",
      "Epoch 1/50\n",
      "40900/40900 [==============================] - 144s 4ms/step - loss: 0.9981 - acc: 0.5690 - val_loss: 0.5389 - val_acc: 0.7687\n",
      "Epoch 2/50\n",
      "40900/40900 [==============================] - 154s 4ms/step - loss: 0.4519 - acc: 0.8170 - val_loss: 0.3590 - val_acc: 0.8604\n",
      "Epoch 3/50\n",
      "40900/40900 [==============================] - 157s 4ms/step - loss: 0.3222 - acc: 0.8685 - val_loss: 0.2842 - val_acc: 0.8826\n",
      "Epoch 4/50\n",
      "40900/40900 [==============================] - 152s 4ms/step - loss: 0.2617 - acc: 0.8945 - val_loss: 0.2395 - val_acc: 0.9094\n",
      "Epoch 5/50\n",
      "40900/40900 [==============================] - 157s 4ms/step - loss: 0.2340 - acc: 0.9058 - val_loss: 0.2213 - val_acc: 0.9152\n",
      "Epoch 6/50\n",
      "40900/40900 [==============================] - 155s 4ms/step - loss: 0.2053 - acc: 0.9185 - val_loss: 0.1962 - val_acc: 0.9264\n",
      "Epoch 7/50\n",
      "40900/40900 [==============================] - 154s 4ms/step - loss: 0.1745 - acc: 0.9332 - val_loss: 0.1744 - val_acc: 0.9310\n",
      "Epoch 8/50\n",
      "40900/40900 [==============================] - 156s 4ms/step - loss: 0.1643 - acc: 0.9362 - val_loss: 0.1697 - val_acc: 0.9406\n",
      "Epoch 9/50\n",
      "40900/40900 [==============================] - 160s 4ms/step - loss: 0.1484 - acc: 0.9440 - val_loss: 0.1809 - val_acc: 0.9272\n",
      "Epoch 10/50\n",
      "40900/40900 [==============================] - 167s 4ms/step - loss: 0.1338 - acc: 0.9513 - val_loss: 0.1658 - val_acc: 0.9377\n",
      "Epoch 11/50\n",
      "40900/40900 [==============================] - 167s 4ms/step - loss: 0.1232 - acc: 0.9541 - val_loss: 0.1338 - val_acc: 0.9516\n",
      "Epoch 12/50\n",
      "40900/40900 [==============================] - 164s 4ms/step - loss: 0.1111 - acc: 0.9593 - val_loss: 0.1315 - val_acc: 0.9491\n",
      "Epoch 13/50\n",
      "40900/40900 [==============================] - 164s 4ms/step - loss: 0.1034 - acc: 0.9624 - val_loss: 0.1208 - val_acc: 0.9565\n",
      "Epoch 14/50\n",
      "40900/40900 [==============================] - 159s 4ms/step - loss: 0.0932 - acc: 0.9656 - val_loss: 0.1195 - val_acc: 0.9548\n",
      "Epoch 15/50\n",
      "40900/40900 [==============================] - 152s 4ms/step - loss: 0.0880 - acc: 0.9687 - val_loss: 0.1139 - val_acc: 0.9586\n",
      "Epoch 16/50\n",
      "40900/40900 [==============================] - 157s 4ms/step - loss: 0.0824 - acc: 0.9695 - val_loss: 0.2096 - val_acc: 0.9288\n",
      "Epoch 17/50\n",
      "40900/40900 [==============================] - 154s 4ms/step - loss: 0.0804 - acc: 0.9707 - val_loss: 0.1484 - val_acc: 0.9431\n",
      "Epoch 18/50\n",
      "40900/40900 [==============================] - 176s 4ms/step - loss: 0.0666 - acc: 0.9765 - val_loss: 0.1229 - val_acc: 0.9539\n",
      "Epoch 19/50\n",
      "40900/40900 [==============================] - 166s 4ms/step - loss: 0.0718 - acc: 0.9733 - val_loss: 0.1165 - val_acc: 0.9578\n",
      "Epoch 20/50\n",
      "40900/40900 [==============================] - 167s 4ms/step - loss: 0.0578 - acc: 0.9798 - val_loss: 0.1299 - val_acc: 0.9490\n",
      "Epoch 21/50\n",
      "40900/40900 [==============================] - 149s 4ms/step - loss: 0.0559 - acc: 0.9801 - val_loss: 0.1102 - val_acc: 0.9590\n",
      "Epoch 22/50\n",
      "40900/40900 [==============================] - 152s 4ms/step - loss: 0.0497 - acc: 0.9819 - val_loss: 0.1149 - val_acc: 0.9600\n",
      "Epoch 23/50\n",
      "40900/40900 [==============================] - 155s 4ms/step - loss: 0.0520 - acc: 0.9810 - val_loss: 0.1043 - val_acc: 0.9625\n",
      "Epoch 24/50\n",
      "40900/40900 [==============================] - 152s 4ms/step - loss: 0.0462 - acc: 0.9833 - val_loss: 0.1102 - val_acc: 0.9607\n",
      "Epoch 25/50\n",
      "40900/40900 [==============================] - 164s 4ms/step - loss: 0.0412 - acc: 0.9859 - val_loss: 0.1225 - val_acc: 0.9590\n",
      "Epoch 26/50\n",
      "40900/40900 [==============================] - 165s 4ms/step - loss: 0.0361 - acc: 0.9870 - val_loss: 0.1150 - val_acc: 0.9608\n",
      "Epoch 27/50\n",
      "40900/40900 [==============================] - 165s 4ms/step - loss: 0.0325 - acc: 0.9889 - val_loss: 0.1224 - val_acc: 0.9578\n",
      "Epoch 28/50\n",
      "40900/40900 [==============================] - 165s 4ms/step - loss: 0.0308 - acc: 0.9891 - val_loss: 0.1159 - val_acc: 0.9629\n",
      "Epoch 29/50\n",
      "40900/40900 [==============================] - 164s 4ms/step - loss: 0.0279 - acc: 0.9900 - val_loss: 0.1260 - val_acc: 0.9597\n",
      "Epoch 30/50\n",
      "40900/40900 [==============================] - 162s 4ms/step - loss: 0.0329 - acc: 0.9883 - val_loss: 0.1196 - val_acc: 0.9626\n",
      "Epoch 31/50\n",
      "40900/40900 [==============================] - 164s 4ms/step - loss: 0.0269 - acc: 0.9910 - val_loss: 0.1184 - val_acc: 0.9629\n",
      "Epoch 32/50\n",
      "40900/40900 [==============================] - 165s 4ms/step - loss: 0.0199 - acc: 0.9936 - val_loss: 0.1363 - val_acc: 0.9579\n",
      "Epoch 33/50\n",
      "40900/40900 [==============================] - 165s 4ms/step - loss: 0.0347 - acc: 0.9891 - val_loss: 0.2219 - val_acc: 0.9351\n",
      "Epoch 34/50\n",
      "40900/40900 [==============================] - 165s 4ms/step - loss: 0.0214 - acc: 0.9933 - val_loss: 0.1285 - val_acc: 0.9624\n",
      "Epoch 35/50\n",
      "40900/40900 [==============================] - 164s 4ms/step - loss: 0.0158 - acc: 0.9952 - val_loss: 0.1228 - val_acc: 0.9632\n",
      "Epoch 36/50\n",
      "40900/40900 [==============================] - 164s 4ms/step - loss: 0.0160 - acc: 0.9951 - val_loss: 0.1724 - val_acc: 0.9525\n",
      "Epoch 37/50\n",
      "40900/40900 [==============================] - 165s 4ms/step - loss: 0.0271 - acc: 0.9909 - val_loss: 0.1349 - val_acc: 0.9634\n",
      "Epoch 38/50\n",
      "40900/40900 [==============================] - 164s 4ms/step - loss: 0.0091 - acc: 0.9978 - val_loss: 0.1627 - val_acc: 0.9560\n",
      "Epoch 39/50\n",
      "40900/40900 [==============================] - 161s 4ms/step - loss: 0.0185 - acc: 0.9936 - val_loss: 0.1492 - val_acc: 0.9590\n",
      "Epoch 40/50\n",
      "40900/40900 [==============================] - 160s 4ms/step - loss: 0.0164 - acc: 0.9945 - val_loss: 0.2110 - val_acc: 0.9397\n",
      "Epoch 41/50\n",
      "40900/40900 [==============================] - 161s 4ms/step - loss: 0.0163 - acc: 0.9954 - val_loss: 0.1435 - val_acc: 0.9619\n",
      "Epoch 42/50\n",
      "40900/40900 [==============================] - 161s 4ms/step - loss: 0.0093 - acc: 0.9973 - val_loss: 0.1514 - val_acc: 0.9623\n",
      "Epoch 43/50\n",
      "40900/40900 [==============================] - 161s 4ms/step - loss: 0.0207 - acc: 0.9940 - val_loss: 0.2184 - val_acc: 0.9370\n",
      "Epoch 44/50\n",
      "40900/40900 [==============================] - 161s 4ms/step - loss: 0.0075 - acc: 0.9982 - val_loss: 0.1443 - val_acc: 0.9646\n",
      "Epoch 45/50\n",
      "40900/40900 [==============================] - 162s 4ms/step - loss: 0.0040 - acc: 0.9993 - val_loss: 0.1525 - val_acc: 0.9637\n",
      "Epoch 46/50\n",
      "40900/40900 [==============================] - 162s 4ms/step - loss: 0.0033 - acc: 0.9995 - val_loss: 0.1549 - val_acc: 0.9632\n",
      "Epoch 47/50\n",
      "40900/40900 [==============================] - 161s 4ms/step - loss: 0.0020 - acc: 0.9998 - val_loss: 0.1574 - val_acc: 0.9646\n",
      "Epoch 48/50\n",
      "40900/40900 [==============================] - 163s 4ms/step - loss: 0.0020 - acc: 0.9999 - val_loss: 0.1597 - val_acc: 0.9636\n",
      "Epoch 49/50\n",
      "40900/40900 [==============================] - 163s 4ms/step - loss: 0.0378 - acc: 0.9870 - val_loss: 0.1538 - val_acc: 0.9622\n",
      "Epoch 50/50\n",
      "40900/40900 [==============================] - 162s 4ms/step - loss: 0.0053 - acc: 0.9989 - val_loss: 0.1544 - val_acc: 0.9622\n"
     ]
    },
    {
     "data": {
      "text/plain": [
       "<keras.callbacks.History at 0x25abfa697b8>"
      ]
     },
     "execution_count": 254,
     "metadata": {},
     "output_type": "execute_result"
    }
   ],
   "source": [
    "class AccuracyHistory(keras.callbacks.Callback):\n",
    "    def on_train_begin(self,logs={}):\n",
    "        self.acc=[]\n",
    "    \n",
    "    def on_epoch_end(self,batch,logs={}):\n",
    "        self.acc.append(logs.get('acc'))\n",
    "\n",
    "# Change epochs here ---\n",
    "epochs = 50\n",
    "\n",
    "history=AccuracyHistory()\n",
    "        \n",
    "model.fit(x_train,y_train,\n",
    "         batch_size=batch_size,\n",
    "         epochs=epochs,\n",
    "         verbose=1,\n",
    "         validation_data=(x_test,y_test),\n",
    "         callbacks=[history])"
   ]
  },
  {
   "cell_type": "code",
   "execution_count": 204,
   "metadata": {},
   "outputs": [
    {
     "name": "stdout",
     "output_type": "stream",
     "text": [
      "Saved model and weights to disk\n"
     ]
    }
   ],
   "source": [
    "#save the model\n",
    "model.save(\"./New_5_9_18_defect_CNN_w_padding2.h5\")\n",
    "model.save_weights(\"./New_5_9_18_defect_CNN_w_paddingweights2.h5\")\n",
    "\n",
    "\n",
    "\"\"\"Or use this to save model\"\"\"\n",
    "\n",
    "#model_json = model.to_json()\n",
    "#with open(\"SJ_model.json\", \"w\") as json_file:\n",
    "#    json_file.write(model_json)\n",
    "### serialize weights to HDF5\n",
    "#model.save_weights(\"SJ_model.h5\")\n",
    "\n",
    "print(\"Saved model and weights to disk\")"
   ]
  },
  {
   "cell_type": "code",
   "execution_count": 233,
   "metadata": {
    "scrolled": true
   },
   "outputs": [
    {
     "name": "stdout",
     "output_type": "stream",
     "text": [
      "_________________________________________________________________\n",
      "Layer (type)                 Output Shape              Param #   \n",
      "=================================================================\n",
      "zero_padding2d_100 (ZeroPadd (None, 66, 66, 1)         0         \n",
      "_________________________________________________________________\n",
      "conv2d_167 (Conv2D)          (None, 64, 64, 8)         80        \n",
      "_________________________________________________________________\n",
      "zero_padding2d_101 (ZeroPadd (None, 66, 66, 8)         0         \n",
      "_________________________________________________________________\n",
      "conv2d_168 (Conv2D)          (None, 64, 64, 8)         584       \n",
      "_________________________________________________________________\n",
      "max_pooling2d_101 (MaxPoolin (None, 32, 32, 8)         0         \n",
      "_________________________________________________________________\n",
      "zero_padding2d_102 (ZeroPadd (None, 34, 34, 8)         0         \n",
      "_________________________________________________________________\n",
      "conv2d_169 (Conv2D)          (None, 32, 32, 16)        1168      \n",
      "_________________________________________________________________\n",
      "zero_padding2d_103 (ZeroPadd (None, 34, 34, 16)        0         \n",
      "_________________________________________________________________\n",
      "conv2d_170 (Conv2D)          (None, 32, 32, 16)        2320      \n",
      "_________________________________________________________________\n",
      "max_pooling2d_102 (MaxPoolin (None, 16, 16, 16)        0         \n",
      "_________________________________________________________________\n",
      "zero_padding2d_104 (ZeroPadd (None, 18, 18, 16)        0         \n",
      "_________________________________________________________________\n",
      "conv2d_171 (Conv2D)          (None, 16, 16, 32)        4640      \n",
      "_________________________________________________________________\n",
      "zero_padding2d_105 (ZeroPadd (None, 18, 18, 32)        0         \n",
      "_________________________________________________________________\n",
      "conv2d_172 (Conv2D)          (None, 16, 16, 32)        9248      \n",
      "_________________________________________________________________\n",
      "max_pooling2d_103 (MaxPoolin (None, 8, 8, 32)          0         \n",
      "_________________________________________________________________\n",
      "zero_padding2d_106 (ZeroPadd (None, 10, 10, 32)        0         \n",
      "_________________________________________________________________\n",
      "conv2d_173 (Conv2D)          (None, 8, 8, 32)          9248      \n",
      "_________________________________________________________________\n",
      "zero_padding2d_107 (ZeroPadd (None, 10, 10, 32)        0         \n",
      "_________________________________________________________________\n",
      "conv2d_174 (Conv2D)          (None, 8, 8, 32)          9248      \n",
      "_________________________________________________________________\n",
      "max_pooling2d_104 (MaxPoolin (None, 4, 4, 32)          0         \n",
      "_________________________________________________________________\n",
      "zero_padding2d_108 (ZeroPadd (None, 6, 6, 32)          0         \n",
      "_________________________________________________________________\n",
      "conv2d_175 (Conv2D)          (None, 4, 4, 64)          18496     \n",
      "_________________________________________________________________\n",
      "zero_padding2d_109 (ZeroPadd (None, 6, 6, 64)          0         \n",
      "_________________________________________________________________\n",
      "conv2d_176 (Conv2D)          (None, 6, 6, 64)          4160      \n",
      "_________________________________________________________________\n",
      "max_pooling2d_105 (MaxPoolin (None, 3, 3, 64)          0         \n",
      "_________________________________________________________________\n",
      "global_average_pooling2d_21  (None, 64)                0         \n",
      "_________________________________________________________________\n",
      "dense_21 (Dense)             (None, 6)                 390       \n",
      "=================================================================\n",
      "Total params: 59,582\n",
      "Trainable params: 59,582\n",
      "Non-trainable params: 0\n",
      "_________________________________________________________________\n"
     ]
    }
   ],
   "source": [
    "model.summary()"
   ]
  },
  {
   "cell_type": "markdown",
   "metadata": {},
   "source": [
    "## Class Activation Map"
   ]
  },
  {
   "cell_type": "code",
   "execution_count": 12,
   "metadata": {},
   "outputs": [],
   "source": [
    "\"\"\"Load CNN Model here\"\"\"\n",
    "model = load_model('New_defect_CNN.h5')\n",
    "\n",
    "#model = model\n",
    "\n",
    "#no. of the last conv layer(can be found in model.summary() )\n",
    "last_conv_layer = -4\n",
    "\n",
    "image_size = 64, 64\n",
    "\n",
    "\"\"\"Load image file name here\"\"\"\n",
    "image_file = 'SJ_Mo'\n",
    "\n",
    "CAM_defects = {}\n",
    "\n",
    "# read in the image file\n",
    "img = cv2.imread(image_file + '.png', cv2.IMREAD_GRAYSCALE)\n",
    "img = cv2.resize(img, image_size, interpolation = cv2.INTER_AREA)\n",
    "img_i = np.copy(img)\n",
    "# Preprocessing for Class activation maps\n",
    "img = cmap.image_preprocessing_cam(img, image_size)\n",
    "\n",
    "# Getting predictions and target class \n",
    "predictions, target_class = cmap.get_predictions(model, img)\n",
    "\n",
    "softmax_weights = cmap.get_SoftmaxWeights(model)\n",
    "\n",
    "conv_out = cmap.get_activation_maps(model, img, last_conv_layer)\n",
    "\n",
    "cam = np.zeros(shape = conv_out.shape[1:3], dtype = np.float32)\n",
    "\n",
    "for idx, weight in enumerate(softmax_weights[:, target_class]):\n",
    "    cam += weight * conv_out[idx, :, :]\n",
    "\n",
    "cam = (cam - np.amin(cam))/(np.amax(cam) - np.amin(cam))\n",
    "cam[np.where(cam < 0.9)] = 0\n",
    "cam = cv2.resize(cam, image_size)\n",
    "\n",
    "# getting defect type\n",
    "defect_class = cmap.get_defects(defects, target_class)\n",
    "# finding the defect cordinates\n",
    "max_coord = blob_log(cam, min_sigma=0.8)\n",
    "x, y = np.transpose(max_coord)[0:2,:]\n",
    "coordinates = list(zip(x,y))\n",
    "\n",
    "# Saving iamge, defect type, coordinate and class activation map in a dictionary to use later\n",
    "dictionary = OrderedDict()    \n",
    "dictionary['Image'] = img_i\n",
    "dictionary['Defect type'] = defect_class\n",
    "dictionary['Defect coordinates'] = coordinates\n",
    "dictionary['CAM'] = cam\n",
    "CAM_defects[image_file] = dictionary\n",
    "\n",
    "directory = './'+'Pickle_dumps'\n",
    "    \n",
    "if not os.path.exists(directory):\n",
    "    os.makedirs(directory)\n",
    "\n",
    "pickle.dump(CAM_defects, open(directory + \"/CAM_defects.pkl\", \"wb\"))"
   ]
  },
  {
   "cell_type": "markdown",
   "metadata": {},
   "source": [
    "## Plotting Class Activation Map with image"
   ]
  },
  {
   "cell_type": "code",
   "execution_count": 13,
   "metadata": {},
   "outputs": [
    {
     "name": "stdout",
     "output_type": "stream",
     "text": [
      "defect type: Mo\n",
      "defect coordinates (x, y): [(63.0, 31.0), (46.0, 46.0), (31.0, 31.0)]\n"
     ]
    },
    {
     "data": {
      "image/png": "[encoded data removed]",
      "text/plain": [
       "<matplotlib.figure.Figure at 0x254a3769710>"
      ]
     },
     "metadata": {},
     "output_type": "display_data"
    }
   ],
   "source": [
    "img, defect_type, defect_coordinates, cam = CAM_defects[image_file].values()\n",
    "\n",
    "f, (ax1, ax2) = plt.subplots(1, 2)\n",
    "ax1.imshow(img, cmap = 'gray')\n",
    "ax1.set_title('Original image')\n",
    "ax2.imshow(cam, cmap = 'inferno')\n",
    "ax2.imshow(img, cmap = 'gray', alpha = 0.5)\n",
    "ax2.set_title('Original image + CAM \\n Class: ' + defect_type)\n",
    "\n",
    "print('defect type:', defect_type)\n",
    "print('defect coordinates (x, y):', str(defect_coordinates))"
   ]
  },
  {
   "cell_type": "markdown",
   "metadata": {},
   "source": [
    "## Old Model"
   ]
  },
  {
   "cell_type": "code",
   "execution_count": null,
   "metadata": {},
   "outputs": [],
   "source": [
    "model = Sequential()\n",
    "\n",
    "##### add layers to CNN model: \n",
    "model.add(Conv2D(32,kernel_size=(5,5),strides=(1,1),\n",
    "                activation='relu',\n",
    "                input_shape=input_shape))\n",
    "model.add(MaxPooling2D(pool_size=(2,2),strides=(2,2)))\n",
    "model.add(Conv2D(64,(5,5),activation='relu'))\n",
    "model.add(MaxPooling2D(pool_size=(2,2),strides=(2,2)))\n",
    "\n",
    "model.add(Flatten())\n",
    "model.add(Dense(1000,activation='relu'))\n",
    "model.add(Dense(num_classes,activation='softmax'))\n",
    "######\n",
    "\n",
    "\n",
    "model.compile(loss=keras.losses.categorical_crossentropy,\n",
    "             optimizer=keras.optimizers.SGD(lr=0.01),\n",
    "             metrics=['accuracy'])"
   ]
  },
  {
   "cell_type": "code",
   "execution_count": 7,
   "metadata": {},
   "outputs": [
    {
     "name": "stdout",
     "output_type": "stream",
     "text": [
      "Train on 40900 samples, validate on 10225 samples\n",
      "Epoch 1/50\n",
      "40900/40900 [==============================] - 283s 7ms/step - loss: 1.6054 - acc: 0.3772 - val_loss: 1.2119 - val_acc: 0.5668\n",
      "Epoch 2/50\n",
      "40900/40900 [==============================] - 279s 7ms/step - loss: 0.8499 - acc: 0.6784 - val_loss: 0.6669 - val_acc: 0.7566\n",
      "Epoch 3/50\n",
      "40900/40900 [==============================] - 273s 7ms/step - loss: 0.4930 - acc: 0.8068 - val_loss: 0.4115 - val_acc: 0.8365\n",
      "Epoch 4/50\n",
      "40900/40900 [==============================] - 271s 7ms/step - loss: 0.3457 - acc: 0.8667 - val_loss: 0.3731 - val_acc: 0.8498\n",
      "Epoch 5/50\n",
      "40900/40900 [==============================] - 273s 7ms/step - loss: 0.2912 - acc: 0.8860 - val_loss: 0.2777 - val_acc: 0.8920\n",
      "Epoch 6/50\n",
      "40900/40900 [==============================] - 273s 7ms/step - loss: 0.2624 - acc: 0.9003 - val_loss: 0.2308 - val_acc: 0.9099\n",
      "Epoch 7/50\n",
      "40900/40900 [==============================] - 272s 7ms/step - loss: 0.2321 - acc: 0.9101 - val_loss: 0.2453 - val_acc: 0.8965\n",
      "Epoch 8/50\n",
      "40900/40900 [==============================] - 270s 7ms/step - loss: 0.2138 - acc: 0.9176 - val_loss: 0.2147 - val_acc: 0.9176\n",
      "Epoch 9/50\n",
      "40900/40900 [==============================] - 268s 7ms/step - loss: 0.1913 - acc: 0.9276 - val_loss: 0.1988 - val_acc: 0.9217\n",
      "Epoch 10/50\n",
      "40900/40900 [==============================] - 22622s 553ms/step - loss: 0.1830 - acc: 0.9299 - val_loss: 0.1974 - val_acc: 0.9239\n",
      "Epoch 11/50\n",
      "40900/40900 [==============================] - 277s 7ms/step - loss: 0.1912 - acc: 0.9286 - val_loss: 0.4051 - val_acc: 0.8303\n",
      "Epoch 12/50\n",
      "40900/40900 [==============================] - 277s 7ms/step - loss: 0.1718 - acc: 0.9356 - val_loss: 0.1793 - val_acc: 0.9273\n",
      "Epoch 13/50\n",
      "40900/40900 [==============================] - 22084s 540ms/step - loss: 0.1580 - acc: 0.9424 - val_loss: 0.1753 - val_acc: 0.9293\n",
      "Epoch 14/50\n",
      "40900/40900 [==============================] - 1905s 47ms/step - loss: 0.1454 - acc: 0.9472 - val_loss: 0.1562 - val_acc: 0.9371\n",
      "Epoch 15/50\n",
      "40900/40900 [==============================] - 313s 8ms/step - loss: 0.1261 - acc: 0.9550 - val_loss: 0.1503 - val_acc: 0.9373\n",
      "Epoch 16/50\n",
      "40900/40900 [==============================] - 285s 7ms/step - loss: 0.1221 - acc: 0.9562 - val_loss: 0.1580 - val_acc: 0.9350\n",
      "Epoch 17/50\n",
      "40900/40900 [==============================] - 280s 7ms/step - loss: 0.1136 - acc: 0.9594 - val_loss: 0.2330 - val_acc: 0.9061\n",
      "Epoch 18/50\n",
      "40900/40900 [==============================] - 280s 7ms/step - loss: 0.1089 - acc: 0.9613 - val_loss: 0.1277 - val_acc: 0.9487\n",
      "Epoch 19/50\n",
      "40900/40900 [==============================] - 269s 7ms/step - loss: 0.0974 - acc: 0.9659 - val_loss: 0.1457 - val_acc: 0.9420\n",
      "Epoch 20/50\n",
      "40900/40900 [==============================] - 263s 6ms/step - loss: 0.1009 - acc: 0.9653 - val_loss: 0.1632 - val_acc: 0.9402\n",
      "Epoch 21/50\n",
      "40900/40900 [==============================] - 264s 6ms/step - loss: 0.0917 - acc: 0.9689 - val_loss: 0.1264 - val_acc: 0.9512\n",
      "Epoch 22/50\n",
      "40900/40900 [==============================] - 266s 6ms/step - loss: 0.0905 - acc: 0.9704 - val_loss: 0.1181 - val_acc: 0.9543\n",
      "Epoch 23/50\n",
      "40900/40900 [==============================] - 3070s 75ms/step - loss: 0.0785 - acc: 0.9737 - val_loss: 0.1269 - val_acc: 0.9495\n",
      "Epoch 24/50\n",
      "40900/40900 [==============================] - 3663s 90ms/step - loss: 0.0856 - acc: 0.9708 - val_loss: 0.1372 - val_acc: 0.9476\n",
      "Epoch 25/50\n",
      "40900/40900 [==============================] - 387s 9ms/step - loss: 0.0717 - acc: 0.9772 - val_loss: 0.1240 - val_acc: 0.9489\n",
      "Epoch 26/50\n",
      "40900/40900 [==============================] - 299s 7ms/step - loss: 0.0700 - acc: 0.9781 - val_loss: 0.1186 - val_acc: 0.9538\n",
      "Epoch 27/50\n",
      "40900/40900 [==============================] - 288s 7ms/step - loss: 0.0640 - acc: 0.9787 - val_loss: 0.1139 - val_acc: 0.9563\n",
      "Epoch 28/50\n",
      "40900/40900 [==============================] - 283s 7ms/step - loss: 0.0619 - acc: 0.9799 - val_loss: 0.1058 - val_acc: 0.9582\n",
      "Epoch 29/50\n",
      "40900/40900 [==============================] - 288s 7ms/step - loss: 0.0628 - acc: 0.9802 - val_loss: 0.1207 - val_acc: 0.9544\n",
      "Epoch 30/50\n",
      "40900/40900 [==============================] - 284s 7ms/step - loss: 0.0523 - acc: 0.9839 - val_loss: 0.0960 - val_acc: 0.9632\n",
      "Epoch 31/50\n",
      "40900/40900 [==============================] - 282s 7ms/step - loss: 0.0522 - acc: 0.9839 - val_loss: 0.0983 - val_acc: 0.9615\n",
      "Epoch 32/50\n",
      "40900/40900 [==============================] - 276s 7ms/step - loss: 0.0465 - acc: 0.9856 - val_loss: 0.0948 - val_acc: 0.9637\n",
      "Epoch 33/50\n",
      "40900/40900 [==============================] - 280s 7ms/step - loss: 0.0451 - acc: 0.9865 - val_loss: 0.1065 - val_acc: 0.9596\n",
      "Epoch 34/50\n",
      "40900/40900 [==============================] - 286s 7ms/step - loss: 0.0824 - acc: 0.9784 - val_loss: 0.1257 - val_acc: 0.9515\n",
      "Epoch 35/50\n",
      "40900/40900 [==============================] - 288s 7ms/step - loss: 0.0630 - acc: 0.9801 - val_loss: 0.1274 - val_acc: 0.9520\n",
      "Epoch 36/50\n",
      "40900/40900 [==============================] - 295s 7ms/step - loss: 0.0509 - acc: 0.9847 - val_loss: 0.1019 - val_acc: 0.9604\n",
      "Epoch 37/50\n",
      "40900/40900 [==============================] - 277s 7ms/step - loss: 0.0412 - acc: 0.9877 - val_loss: 0.0925 - val_acc: 0.9642\n",
      "Epoch 38/50\n",
      "40900/40900 [==============================] - 277s 7ms/step - loss: 0.0762 - acc: 0.9784 - val_loss: 0.0985 - val_acc: 0.9638\n",
      "Epoch 39/50\n",
      "40900/40900 [==============================] - 281s 7ms/step - loss: 0.0399 - acc: 0.9880 - val_loss: 0.1156 - val_acc: 0.9566\n",
      "Epoch 40/50\n",
      "40900/40900 [==============================] - 278s 7ms/step - loss: 0.0377 - acc: 0.9883 - val_loss: 0.0927 - val_acc: 0.9649\n",
      "Epoch 41/50\n",
      "40900/40900 [==============================] - 273s 7ms/step - loss: 0.0514 - acc: 0.9862 - val_loss: 0.1502 - val_acc: 0.9464\n",
      "Epoch 42/50\n",
      "40900/40900 [==============================] - 267s 7ms/step - loss: 0.0516 - acc: 0.9843 - val_loss: 0.1164 - val_acc: 0.9583\n",
      "Epoch 43/50\n",
      "40900/40900 [==============================] - 265s 6ms/step - loss: 0.0436 - acc: 0.9869 - val_loss: 0.1041 - val_acc: 0.9620\n",
      "Epoch 44/50\n",
      "40900/40900 [==============================] - 270s 7ms/step - loss: 0.0366 - acc: 0.9891 - val_loss: 0.1010 - val_acc: 0.9610\n",
      "Epoch 45/50\n",
      "40900/40900 [==============================] - 280s 7ms/step - loss: 0.0339 - acc: 0.9903 - val_loss: 0.1123 - val_acc: 0.9606\n",
      "Epoch 46/50\n",
      "40900/40900 [==============================] - 279s 7ms/step - loss: 0.0323 - acc: 0.9906 - val_loss: 0.1145 - val_acc: 0.9576\n",
      "Epoch 47/50\n",
      "40900/40900 [==============================] - 276s 7ms/step - loss: 0.0308 - acc: 0.9911 - val_loss: 0.1021 - val_acc: 0.9620\n",
      "Epoch 48/50\n",
      "40900/40900 [==============================] - 268s 7ms/step - loss: 0.0289 - acc: 0.9915 - val_loss: 0.1084 - val_acc: 0.9604\n",
      "Epoch 49/50\n",
      "40900/40900 [==============================] - 269s 7ms/step - loss: 0.0278 - acc: 0.9921 - val_loss: 0.0943 - val_acc: 0.9652\n",
      "Epoch 50/50\n",
      "40900/40900 [==============================] - 271s 7ms/step - loss: 0.0270 - acc: 0.9920 - val_loss: 0.1086 - val_acc: 0.9622\n"
     ]
    },
    {
     "data": {
      "text/plain": [
       "<keras.callbacks.History at 0x1bb306e9c88>"
      ]
     },
     "execution_count": 7,
     "metadata": {},
     "output_type": "execute_result"
    }
   ],
   "source": [
    "class AccuracyHistory(keras.callbacks.Callback):\n",
    "    def on_train_begin(self,logs={}):\n",
    "        self.acc=[]\n",
    "    \n",
    "    def on_epoch_end(self,batch,logs={}):\n",
    "        self.acc.append(logs.get('acc'))\n",
    "\n",
    "history=AccuracyHistory()\n",
    "        \n",
    "model.fit(x_train,y_train,\n",
    "         batch_size=batch_size,\n",
    "         epochs=epochs,\n",
    "         verbose=1,\n",
    "         validation_data=(x_test,y_test),\n",
    "         callbacks=[history])"
   ]
  },
  {
   "cell_type": "code",
   "execution_count": 2,
   "metadata": {},
   "outputs": [],
   "source": [
    "from keras.models import model_from_json, load_model\n",
    "model = load_model('New_defect_CNN.h5')"
   ]
  },
  {
   "cell_type": "code",
   "execution_count": 18,
   "metadata": {},
   "outputs": [
    {
     "data": {
      "text/plain": [
       "int"
      ]
     },
     "execution_count": 18,
     "metadata": {},
     "output_type": "execute_result"
    }
   ],
   "source": [
    "type(i)"
   ]
  },
  {
   "cell_type": "code",
   "execution_count": 6,
   "metadata": {},
   "outputs": [],
   "source": [
    "y = (64,64)"
   ]
  },
  {
   "cell_type": "code",
   "execution_count": 5,
   "metadata": {},
   "outputs": [
    {
     "data": {
      "text/plain": [
       "64"
      ]
     },
     "execution_count": 5,
     "metadata": {},
     "output_type": "execute_result"
    }
   ],
   "source": [
    "y[0]"
   ]
  },
  {
   "cell_type": "code",
   "execution_count": 9,
   "metadata": {},
   "outputs": [],
   "source": [
    "image_file = 'SJ_Mo'\n",
    "\n",
    "## Still working on this - incorporating coordinate search & making it better and well documented \n",
    "## but feel free to optimize\n",
    "img = cv2.imread(image_file + '.png', cv2.IMREAD_GRAYSCALE)"
   ]
  },
  {
   "cell_type": "code",
   "execution_count": 3,
   "metadata": {},
   "outputs": [],
   "source": [
    "defects={'Sw':0,'Mo':1,'W2s2':2,'Vw':3,'Vs2':4,'Ws':5}"
   ]
  },
  {
   "cell_type": "code",
   "execution_count": null,
   "metadata": {},
   "outputs": [],
   "source": []
  }
 ],
 "metadata": {
  "kernelspec": {
   "display_name": "Python 3",
   "language": "python",
   "name": "python3"
  },
  "language_info": {
   "codemirror_mode": {
    "name": "ipython",
    "version": 3
   },
   "file_extension": ".py",
   "mimetype": "text/x-python",
   "name": "python",
   "nbconvert_exporter": "python",
   "pygments_lexer": "ipython3",
   "version": "3.6.4"
  }
 },
 "nbformat": 4,
 "nbformat_minor": 2
}
