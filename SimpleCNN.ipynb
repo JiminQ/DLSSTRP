{
 "cells": [
  {
   "cell_type": "markdown",
   "metadata": {},
   "source": [
    "## Build train and test data list"
   ]
  },
  {
   "cell_type": "code",
   "execution_count": 1,
   "metadata": {},
   "outputs": [
    {
     "name": "stderr",
     "output_type": "stream",
     "text": [
      "C:\\Users\\Sarthak\\Anaconda3\\lib\\site-packages\\h5py\\__init__.py:36: FutureWarning: Conversion of the second argument of issubdtype from `float` to `np.floating` is deprecated. In future, it will be treated as `np.float64 == np.dtype(float).type`.\n",
      "  from ._conv import register_converters as _register_converters\n",
      "Using TensorFlow backend.\n"
     ]
    }
   ],
   "source": [
    "from __future__ import print_function\n",
    "import keras\n",
    "from keras.preprocessing.image import array_to_img, img_to_array, load_img\n",
    "from keras.layers import Dense, Flatten\n",
    "from keras.layers import Conv2D, MaxPooling2D\n",
    "from keras.models import Sequential\n",
    "import matplotlib.pylab as plt\n",
    "from sklearn.model_selection import train_test_split\n",
    "\n",
    "import os\n",
    "import glob\n",
    "import numpy as np"
   ]
  },
  {
   "cell_type": "code",
   "execution_count": 2,
   "metadata": {},
   "outputs": [],
   "source": [
    "## read in all the augmented and noisy images\n",
    "path = \"./Multislice\"\n",
    "folders=os.listdir(path) \n",
    "data=[]    #all the images will be stored in this list.\n",
    "defecttype=[]    #all the defect type corresponding to each image store in this list\n",
    "defects={'Sw':0,'Mo':1,'W2s2':2,'Vw':3,'Vs2':4,'Ws':5}     # each int represents a defect type\n",
    "\n",
    "for folder in folders:  #traversing all subfolders(types of defects) in MULTISLICE\n",
    "    if '.' in folder:   #make sure it will not traverse file like '.DS_store'\n",
    "        continue\n",
    "    \n",
    "    noisy_path = \"./Multislice\"+\"/\"+folder+'/'+folder+'_Augmented' \n",
    "    filelist = glob.glob(noisy_path+'/*.png')\n",
    "    data.extend([img_to_array(load_img(fname, grayscale = True)) for fname in filelist])\n",
    "    defecttype.extend([defects[folder]]*len(filelist))"
   ]
  },
  {
   "cell_type": "code",
   "execution_count": 3,
   "metadata": {},
   "outputs": [
    {
     "data": {
      "text/plain": [
       "(51125, 64, 64, 1)"
      ]
     },
     "execution_count": 3,
     "metadata": {},
     "output_type": "execute_result"
    }
   ],
   "source": [
    "## there should be 51125 images, each image with size of (64,64,1)\n",
    "np.array(data).shape"
   ]
  },
  {
   "cell_type": "code",
   "execution_count": 4,
   "metadata": {},
   "outputs": [],
   "source": [
    "#train test split\n",
    "x_train, x_test, y_train, y_test = train_test_split(np.array(data), defecttype, test_size = 0.2, random_state = 28956)"
   ]
  },
  {
   "cell_type": "markdown",
   "metadata": {},
   "source": [
    "## Train CNN"
   ]
  },
  {
   "cell_type": "code",
   "execution_count": 5,
   "metadata": {},
   "outputs": [],
   "source": [
    "batch_size = 128\n",
    "num_classes = 6\n",
    "epochs = 50\n",
    "\n",
    "# input image dimensions\n",
    "img_x, img_y = 64, 64\n",
    "input_shape = (img_x, img_y, 1)\n",
    "\n",
    "x_train /= 255\n",
    "x_test /= 255\n",
    "y_train = keras.utils.to_categorical(y_train, num_classes)\n",
    "y_test = keras.utils.to_categorical(y_test, num_classes)"
   ]
  },
  {
   "cell_type": "code",
   "execution_count": 6,
   "metadata": {},
   "outputs": [],
   "source": [
    "model = Sequential()\n",
    "\n",
    "##### add layers to CNN model: \n",
    "model.add(Conv2D(32,kernel_size=(5,5),strides=(1,1),\n",
    "                activation='relu',\n",
    "                input_shape=input_shape))\n",
    "model.add(MaxPooling2D(pool_size=(2,2),strides=(2,2)))\n",
    "model.add(Conv2D(64,(5,5),activation='relu'))\n",
    "model.add(MaxPooling2D(pool_size=(2,2),strides=(2,2)))\n",
    "\n",
    "model.add(Flatten())\n",
    "model.add(Dense(1000,activation='relu'))\n",
    "model.add(Dense(num_classes,activation='softmax'))\n",
    "######\n",
    "\n",
    "\n",
    "model.compile(loss=keras.losses.categorical_crossentropy,\n",
    "             optimizer=keras.optimizers.SGD(lr=0.01),\n",
    "             metrics=['accuracy'])"
   ]
  },
  {
   "cell_type": "code",
   "execution_count": 7,
   "metadata": {},
   "outputs": [
    {
     "name": "stdout",
     "output_type": "stream",
     "text": [
      "Train on 40900 samples, validate on 10225 samples\n",
      "Epoch 1/50\n",
      "40900/40900 [==============================] - 283s 7ms/step - loss: 1.6054 - acc: 0.3772 - val_loss: 1.2119 - val_acc: 0.5668\n",
      "Epoch 2/50\n",
      "40900/40900 [==============================] - 279s 7ms/step - loss: 0.8499 - acc: 0.6784 - val_loss: 0.6669 - val_acc: 0.7566\n",
      "Epoch 3/50\n",
      "40900/40900 [==============================] - 273s 7ms/step - loss: 0.4930 - acc: 0.8068 - val_loss: 0.4115 - val_acc: 0.8365\n",
      "Epoch 4/50\n",
      "40900/40900 [==============================] - 271s 7ms/step - loss: 0.3457 - acc: 0.8667 - val_loss: 0.3731 - val_acc: 0.8498\n",
      "Epoch 5/50\n",
      "40900/40900 [==============================] - 273s 7ms/step - loss: 0.2912 - acc: 0.8860 - val_loss: 0.2777 - val_acc: 0.8920\n",
      "Epoch 6/50\n",
      "40900/40900 [==============================] - 273s 7ms/step - loss: 0.2624 - acc: 0.9003 - val_loss: 0.2308 - val_acc: 0.9099\n",
      "Epoch 7/50\n",
      "40900/40900 [==============================] - 272s 7ms/step - loss: 0.2321 - acc: 0.9101 - val_loss: 0.2453 - val_acc: 0.8965\n",
      "Epoch 8/50\n",
      "40900/40900 [==============================] - 270s 7ms/step - loss: 0.2138 - acc: 0.9176 - val_loss: 0.2147 - val_acc: 0.9176\n",
      "Epoch 9/50\n",
      "40900/40900 [==============================] - 268s 7ms/step - loss: 0.1913 - acc: 0.9276 - val_loss: 0.1988 - val_acc: 0.9217\n",
      "Epoch 10/50\n",
      "40900/40900 [==============================] - 22622s 553ms/step - loss: 0.1830 - acc: 0.9299 - val_loss: 0.1974 - val_acc: 0.9239\n",
      "Epoch 11/50\n",
      "40900/40900 [==============================] - 277s 7ms/step - loss: 0.1912 - acc: 0.9286 - val_loss: 0.4051 - val_acc: 0.8303\n",
      "Epoch 12/50\n",
      "40900/40900 [==============================] - 277s 7ms/step - loss: 0.1718 - acc: 0.9356 - val_loss: 0.1793 - val_acc: 0.9273\n",
      "Epoch 13/50\n",
      "40900/40900 [==============================] - 22084s 540ms/step - loss: 0.1580 - acc: 0.9424 - val_loss: 0.1753 - val_acc: 0.9293\n",
      "Epoch 14/50\n",
      "40900/40900 [==============================] - 1905s 47ms/step - loss: 0.1454 - acc: 0.9472 - val_loss: 0.1562 - val_acc: 0.9371\n",
      "Epoch 15/50\n",
      "40900/40900 [==============================] - 313s 8ms/step - loss: 0.1261 - acc: 0.9550 - val_loss: 0.1503 - val_acc: 0.9373\n",
      "Epoch 16/50\n",
      "40900/40900 [==============================] - 285s 7ms/step - loss: 0.1221 - acc: 0.9562 - val_loss: 0.1580 - val_acc: 0.9350\n",
      "Epoch 17/50\n",
      "40900/40900 [==============================] - 280s 7ms/step - loss: 0.1136 - acc: 0.9594 - val_loss: 0.2330 - val_acc: 0.9061\n",
      "Epoch 18/50\n",
      "40900/40900 [==============================] - 280s 7ms/step - loss: 0.1089 - acc: 0.9613 - val_loss: 0.1277 - val_acc: 0.9487\n",
      "Epoch 19/50\n",
      "40900/40900 [==============================] - 269s 7ms/step - loss: 0.0974 - acc: 0.9659 - val_loss: 0.1457 - val_acc: 0.9420\n",
      "Epoch 20/50\n",
      "40900/40900 [==============================] - 263s 6ms/step - loss: 0.1009 - acc: 0.9653 - val_loss: 0.1632 - val_acc: 0.9402\n",
      "Epoch 21/50\n",
      "40900/40900 [==============================] - 264s 6ms/step - loss: 0.0917 - acc: 0.9689 - val_loss: 0.1264 - val_acc: 0.9512\n",
      "Epoch 22/50\n",
      "40900/40900 [==============================] - 266s 6ms/step - loss: 0.0905 - acc: 0.9704 - val_loss: 0.1181 - val_acc: 0.9543\n",
      "Epoch 23/50\n",
      "40900/40900 [==============================] - 3070s 75ms/step - loss: 0.0785 - acc: 0.9737 - val_loss: 0.1269 - val_acc: 0.9495\n",
      "Epoch 24/50\n",
      "40900/40900 [==============================] - 3663s 90ms/step - loss: 0.0856 - acc: 0.9708 - val_loss: 0.1372 - val_acc: 0.9476\n",
      "Epoch 25/50\n",
      "40900/40900 [==============================] - 387s 9ms/step - loss: 0.0717 - acc: 0.9772 - val_loss: 0.1240 - val_acc: 0.9489\n",
      "Epoch 26/50\n",
      "40900/40900 [==============================] - 299s 7ms/step - loss: 0.0700 - acc: 0.9781 - val_loss: 0.1186 - val_acc: 0.9538\n",
      "Epoch 27/50\n",
      "40900/40900 [==============================] - 288s 7ms/step - loss: 0.0640 - acc: 0.9787 - val_loss: 0.1139 - val_acc: 0.9563\n",
      "Epoch 28/50\n",
      "40900/40900 [==============================] - 283s 7ms/step - loss: 0.0619 - acc: 0.9799 - val_loss: 0.1058 - val_acc: 0.9582\n",
      "Epoch 29/50\n",
      "40900/40900 [==============================] - 288s 7ms/step - loss: 0.0628 - acc: 0.9802 - val_loss: 0.1207 - val_acc: 0.9544\n",
      "Epoch 30/50\n",
      "40900/40900 [==============================] - 284s 7ms/step - loss: 0.0523 - acc: 0.9839 - val_loss: 0.0960 - val_acc: 0.9632\n",
      "Epoch 31/50\n",
      "40900/40900 [==============================] - 282s 7ms/step - loss: 0.0522 - acc: 0.9839 - val_loss: 0.0983 - val_acc: 0.9615\n",
      "Epoch 32/50\n",
      "40900/40900 [==============================] - 276s 7ms/step - loss: 0.0465 - acc: 0.9856 - val_loss: 0.0948 - val_acc: 0.9637\n",
      "Epoch 33/50\n",
      "40900/40900 [==============================] - 280s 7ms/step - loss: 0.0451 - acc: 0.9865 - val_loss: 0.1065 - val_acc: 0.9596\n",
      "Epoch 34/50\n",
      "40900/40900 [==============================] - 286s 7ms/step - loss: 0.0824 - acc: 0.9784 - val_loss: 0.1257 - val_acc: 0.9515\n",
      "Epoch 35/50\n",
      "40900/40900 [==============================] - 288s 7ms/step - loss: 0.0630 - acc: 0.9801 - val_loss: 0.1274 - val_acc: 0.9520\n",
      "Epoch 36/50\n",
      "40900/40900 [==============================] - 295s 7ms/step - loss: 0.0509 - acc: 0.9847 - val_loss: 0.1019 - val_acc: 0.9604\n",
      "Epoch 37/50\n",
      "40900/40900 [==============================] - 277s 7ms/step - loss: 0.0412 - acc: 0.9877 - val_loss: 0.0925 - val_acc: 0.9642\n",
      "Epoch 38/50\n",
      "40900/40900 [==============================] - 277s 7ms/step - loss: 0.0762 - acc: 0.9784 - val_loss: 0.0985 - val_acc: 0.9638\n",
      "Epoch 39/50\n",
      "40900/40900 [==============================] - 281s 7ms/step - loss: 0.0399 - acc: 0.9880 - val_loss: 0.1156 - val_acc: 0.9566\n",
      "Epoch 40/50\n",
      "40900/40900 [==============================] - 278s 7ms/step - loss: 0.0377 - acc: 0.9883 - val_loss: 0.0927 - val_acc: 0.9649\n",
      "Epoch 41/50\n",
      "40900/40900 [==============================] - 273s 7ms/step - loss: 0.0514 - acc: 0.9862 - val_loss: 0.1502 - val_acc: 0.9464\n",
      "Epoch 42/50\n",
      "40900/40900 [==============================] - 267s 7ms/step - loss: 0.0516 - acc: 0.9843 - val_loss: 0.1164 - val_acc: 0.9583\n",
      "Epoch 43/50\n",
      "40900/40900 [==============================] - 265s 6ms/step - loss: 0.0436 - acc: 0.9869 - val_loss: 0.1041 - val_acc: 0.9620\n",
      "Epoch 44/50\n",
      "40900/40900 [==============================] - 270s 7ms/step - loss: 0.0366 - acc: 0.9891 - val_loss: 0.1010 - val_acc: 0.9610\n",
      "Epoch 45/50\n",
      "40900/40900 [==============================] - 280s 7ms/step - loss: 0.0339 - acc: 0.9903 - val_loss: 0.1123 - val_acc: 0.9606\n",
      "Epoch 46/50\n",
      "40900/40900 [==============================] - 279s 7ms/step - loss: 0.0323 - acc: 0.9906 - val_loss: 0.1145 - val_acc: 0.9576\n",
      "Epoch 47/50\n",
      "40900/40900 [==============================] - 276s 7ms/step - loss: 0.0308 - acc: 0.9911 - val_loss: 0.1021 - val_acc: 0.9620\n",
      "Epoch 48/50\n",
      "40900/40900 [==============================] - 268s 7ms/step - loss: 0.0289 - acc: 0.9915 - val_loss: 0.1084 - val_acc: 0.9604\n",
      "Epoch 49/50\n",
      "40900/40900 [==============================] - 269s 7ms/step - loss: 0.0278 - acc: 0.9921 - val_loss: 0.0943 - val_acc: 0.9652\n",
      "Epoch 50/50\n",
      "40900/40900 [==============================] - 271s 7ms/step - loss: 0.0270 - acc: 0.9920 - val_loss: 0.1086 - val_acc: 0.9622\n"
     ]
    },
    {
     "data": {
      "text/plain": [
       "<keras.callbacks.History at 0x1bb306e9c88>"
      ]
     },
     "execution_count": 7,
     "metadata": {},
     "output_type": "execute_result"
    }
   ],
   "source": [
    "class AccuracyHistory(keras.callbacks.Callback):\n",
    "    def on_train_begin(self,logs={}):\n",
    "        self.acc=[]\n",
    "    \n",
    "    def on_epoch_end(self,batch,logs={}):\n",
    "        self.acc.append(logs.get('acc'))\n",
    "\n",
    "history=AccuracyHistory()\n",
    "        \n",
    "model.fit(x_train,y_train,\n",
    "         batch_size=batch_size,\n",
    "         epochs=epochs,\n",
    "         verbose=1,\n",
    "         validation_data=(x_test,y_test),\n",
    "         callbacks=[history])"
   ]
  },
  {
   "cell_type": "code",
   "execution_count": 8,
   "metadata": {},
   "outputs": [],
   "source": [
    "#save the model\n",
    "model.save(\"./defect_CNN.h5\")\n",
    "model.save_weights(\"./defect_CNN.h5\")"
   ]
  },
  {
   "cell_type": "code",
   "execution_count": null,
   "metadata": {},
   "outputs": [],
   "source": []
  }
 ],
 "metadata": {
  "kernelspec": {
   "display_name": "Python 3",
   "language": "python",
   "name": "python3"
  },
  "language_info": {
   "codemirror_mode": {
    "name": "ipython",
    "version": 3
   },
   "file_extension": ".py",
   "mimetype": "text/x-python",
   "name": "python",
   "nbconvert_exporter": "python",
   "pygments_lexer": "ipython3",
   "version": "3.6.4"
  }
 },
 "nbformat": 4,
 "nbformat_minor": 2
}
