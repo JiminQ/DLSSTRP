{
 "cells": [
  {
   "cell_type": "code",
   "execution_count": 1,
   "metadata": {},
   "outputs": [
    {
     "name": "stderr",
     "output_type": "stream",
     "text": [
      "C:\\Users\\Sarthak\\Anaconda3\\lib\\site-packages\\h5py\\__init__.py:36: FutureWarning: Conversion of the second argument of issubdtype from `float` to `np.floating` is deprecated. In future, it will be treated as `np.float64 == np.dtype(float).type`.\n",
      "  from ._conv import register_converters as _register_converters\n",
      "Using TensorFlow backend.\n"
     ]
    }
   ],
   "source": [
    "import os\n",
    "import numpy as np\n",
    "\n",
    "from keras.preprocessing.image import ImageDataGenerator, array_to_img, img_to_array, load_img"
   ]
  },
  {
   "cell_type": "markdown",
   "metadata": {},
   "source": [
    "## Defining Function for Image Augmentation"
   ]
  },
  {
   "cell_type": "code",
   "execution_count": 47,
   "metadata": {},
   "outputs": [],
   "source": [
    "def AugmentImage(img, folder_name, image_prefix, N):\n",
    "    \n",
    "    \"\"\" This function uses the keras ImageDataGenerator for image augmentation.\n",
    "    \n",
    "    Arguments:\n",
    "    \n",
    "    img : Image that needs to be augmented\n",
    "    folder_name : name of the folder where the images will be saved\n",
    "    image_prefix : prefix for the saved images\n",
    "    N : number of images that will be created through augmentation\n",
    "    \n",
    "    Returns:\n",
    "    \n",
    "    N augmented images with 'image_prefix' saved in 'folder_name'\n",
    "    \n",
    "    Raises:\n",
    "    \n",
    "    Error when input data type is incorrect\n",
    "    \n",
    "    \"\"\"\n",
    "    \n",
    "    assert type(folder_name) == str, ('Wrong Data type', 'folder_name must be a string')\n",
    "    assert type(image_prefix) == str, ('Wrong Data type', 'image_prefix must be a string')\n",
    "    assert type(N) == int, ('Wrong Data type', 'N must be an integer')\n",
    "    \n",
    "    directory = './' + folder_name\n",
    "    \n",
    "    if not os.path.exists(directory):\n",
    "        os.makedirs(directory)\n",
    "    \n",
    "    datagen = ImageDataGenerator(rotation_range=60, width_shift_range=0.1, height_shift_range=0.1, shear_range=0.1,\n",
    "                                 zoom_range=0.2, horizontal_flip=True, vertical_flip=True, fill_mode='constant', cval = 0.0)\n",
    "\n",
    "    \n",
    "    x = img_to_array(img)  # this is a Numpy array with shape (64, 64, 3)\n",
    "    x = x.reshape((1,) + x.shape)  # this is a Numpy array with shape (1, 64, 64, 3)\n",
    "\n",
    "    i = 0\n",
    "    for batch in datagen.flow(x, batch_size = 1,\n",
    "                              save_to_dir = folder_name, save_prefix = image_prefix, save_format = 'png'):\n",
    "        i += 1\n",
    "        if i > N:\n",
    "            break  # otherwise the generator would loop indefinitely\n",
    "    \n",
    "    return"
   ]
  },
  {
   "cell_type": "markdown",
   "metadata": {},
   "source": [
    "## Loading and Augmenting Image"
   ]
  },
  {
   "cell_type": "code",
   "execution_count": 48,
   "metadata": {},
   "outputs": [],
   "source": [
    "img = load_img('Vs2/Vs_105.png') # Loading the image\n",
    "\n",
    "# Augmenting using the function above\n",
    "\n",
    "AugmentImage(img, 'Vs_Augmented','Vs', 100)"
   ]
  },
  {
   "cell_type": "code",
   "execution_count": null,
   "metadata": {},
   "outputs": [],
   "source": []
  }
 ],
 "metadata": {
  "kernelspec": {
   "display_name": "Python 3",
   "language": "python",
   "name": "python3"
  },
  "language_info": {
   "codemirror_mode": {
    "name": "ipython",
    "version": 3
   },
   "file_extension": ".py",
   "mimetype": "text/x-python",
   "name": "python",
   "nbconvert_exporter": "python",
   "pygments_lexer": "ipython3",
   "version": "3.6.4"
  }
 },
 "nbformat": 4,
 "nbformat_minor": 2
}
