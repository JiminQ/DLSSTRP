{
 "cells": [
  {
   "cell_type": "markdown",
   "metadata": {},
   "source": [
    "# Imports"
   ]
  },
  {
   "cell_type": "code",
   "execution_count": 21,
   "metadata": {
    "scrolled": true
   },
   "outputs": [],
   "source": [
    "from __future__ import absolute_import, division, print_function\n",
    "import sys\n",
    "import os\n",
    "import glob\n",
    "\n",
    "from skimage.io import imread\n",
    "from keras.preprocessing.image import load_img\n",
    "\n",
    "\n",
    "# Our Preprocessing module----\n",
    "sys.path.append('..')\n",
    "from defectfinder import preprocessing as pre"
   ]
  },
  {
   "cell_type": "markdown",
   "metadata": {},
   "source": [
    "# Generating all the augmented images along with the noise for all the defect types at once - "
   ]
  },
  {
   "cell_type": "code",
   "execution_count": 24,
   "metadata": {},
   "outputs": [
    {
     "name": "stderr",
     "output_type": "stream",
     "text": [
      "C:\\Users\\Sarthak\\Anaconda3\\lib\\site-packages\\skimage\\util\\dtype.py:122: UserWarning: Possible precision loss when converting from float64 to uint16\n",
      "  .format(dtypeobj_in, dtypeobj_out))\n"
     ]
    }
   ],
   "source": [
    "# the path of the folder (Multislice) which includes different type of (theoretical) defects\n",
    "theo_path = \".././Multislice\"\n",
    "folders=os.listdir(theo_path) \n",
    "# folders is the list of subfolders' names (here it is the types of defects' names:Mo,Sw,Vs2,Vw,W2S2,Ws)\n",
    "\n",
    "for folder in folders:  #traversing all subfolders(types of defects) in MULTISLICE\n",
    "    if '.' in folder:   #make sure it will not traverse file like '.DS_store'\n",
    "        continue\n",
    "        \n",
    "    path = theo_path +\"/\"+folder\n",
    "    \n",
    "    files = os.listdir(path)\n",
    "    #files is the list of all raw_images under each type of defect\n",
    "    for file in files: #traversing all raw_images in the defect folders\n",
    "        if file.endswith(\".png\"):\n",
    "            img = imread(path+'/'+file, as_grey = True) # loading the image\n",
    "            pre.AugmentImage(img, theo_path, folder+'_Augmented2', folder, 20) # Augmenting using the function above\n",
    "    \n",
    "    \n",
    "    noisy_path = \".././Multislice\"+\"/\"+folder+'/'+folder+'_Augmented2'  \n",
    "    # the path of data_Augmented folder\n",
    "    image=os.listdir(noisy_path)\n",
    "    # image is the list all the augmented data\n",
    "    for i in image:\n",
    "        if i.endswith(\".png\"):\n",
    "            img = imread(noisy_path+'/'+i, as_grey = True)\n",
    "            pre.AddNoiseImage(img, folder, noisy_path, i)   #for each augmented image generate 4 images with gaussion,s&p,poisson and speckle noise\n",
    "            \n",
    "        else: \n",
    "            pass\n",
    "        \n",
    "       "
   ]
  },
  {
   "cell_type": "markdown",
   "metadata": {},
   "source": [
    "# For augmenting individual defect types and adding noise separately, use the code below- \n",
    "\n",
    "### This is written to be used for adding additional defect types individually..."
   ]
  },
  {
   "cell_type": "code",
   "execution_count": 25,
   "metadata": {},
   "outputs": [
    {
     "name": "stderr",
     "output_type": "stream",
     "text": [
      "C:\\Users\\Sarthak\\Anaconda3\\lib\\site-packages\\skimage\\util\\dtype.py:122: UserWarning: Possible precision loss when converting from float64 to uint16\n",
      "  .format(dtypeobj_in, dtypeobj_out))\n"
     ]
    }
   ],
   "source": [
    "# the path of the folder (Multislice) which includes different type of (theoretical) defects\n",
    "theo_path = '.././Multislice'\n",
    "\n",
    "# Define path to the defect folder\n",
    "path = '.././' + 'Multislice' + '/'\n",
    "\n",
    "\"\"\"Change defect folder name here\"\"\"\n",
    "folder = \"Mo\"\n",
    "\n",
    "\"\"\"Change number of augmneted images here\"\"\"\n",
    "\n",
    "N = 250 # Number of Augmented images (Total images after augmentation and adding noise will be ~5*N)\n",
    "\n",
    "# Augmenting using the function\n",
    "for filename in glob.iglob(path + folder + '/*.png'):\n",
    "    \n",
    "    img = load_img(filename, grayscale = True)\n",
    "    \n",
    "    pre.AugmentImage(img, theo_path, folder + '_Augmented2', folder , N)\n",
    "    \n",
    "\n",
    "# Adding noise to the augmented images\n",
    "\n",
    "noisy_path = \".././Multislice\"+\"/\"+folder+'/'+ folder+'_Augmented2'  \n",
    "\n",
    "# the path of data_Augmented folder\n",
    "image=os.listdir(noisy_path)\n",
    "\n",
    "# image is the list all the augmented data\n",
    "for i in image:\n",
    "    if i.endswith(\".png\"):\n",
    "        \n",
    "        img = imread(noisy_path+'/'+i, as_grey = True)\n",
    "        \n",
    "        pre.AddNoiseImage(img, folder, noisy_path, i)   #for each augmented image generate 4 images with gaussion,s&p,poisson and speckle noise\n",
    "            \n",
    "    else: \n",
    "        pass"
   ]
  },
  {
   "cell_type": "code",
   "execution_count": null,
   "metadata": {},
   "outputs": [],
   "source": []
  }
 ],
 "metadata": {
  "kernelspec": {
   "display_name": "Python 3",
   "language": "python",
   "name": "python3"
  },
  "language_info": {
   "codemirror_mode": {
    "name": "ipython",
    "version": 3
   },
   "file_extension": ".py",
   "mimetype": "text/x-python",
   "name": "python",
   "nbconvert_exporter": "python",
   "pygments_lexer": "ipython3",
   "version": "3.6.4"
  }
 },
 "nbformat": 4,
 "nbformat_minor": 2
}
