{
 "cells": [
  {
   "cell_type": "code",
   "execution_count": 1,
   "metadata": {
    "scrolled": true
   },
   "outputs": [
    {
     "name": "stderr",
     "output_type": "stream",
     "text": [
      "C:\\Users\\Sarthak\\Anaconda3\\lib\\site-packages\\h5py\\__init__.py:36: FutureWarning: Conversion of the second argument of issubdtype from `float` to `np.floating` is deprecated. In future, it will be treated as `np.float64 == np.dtype(float).type`.\n",
      "  from ._conv import register_converters as _register_converters\n",
      "Using TensorFlow backend.\n"
     ]
    }
   ],
   "source": [
    "import os\n",
    "import glob\n",
    "import numpy as np\n",
    "from skimage.io import imread\n",
    "from skimage.io import imsave\n",
    "from skimage.color import rgb2gray\n",
    "from skimage.util import random_noise\n",
    "from keras.preprocessing.image import ImageDataGenerator, array_to_img, img_to_array, load_img\n",
    "\n",
    "\n"
   ]
  },
  {
   "cell_type": "markdown",
   "metadata": {},
   "source": [
    "## Defining function for augmenting images"
   ]
  },
  {
   "cell_type": "code",
   "execution_count": 2,
   "metadata": {},
   "outputs": [],
   "source": [
    "def AugmentImage(img, folder_name, image_prefix, N):\n",
    "    \n",
    "    \"\"\" This function uses the keras ImageDataGenerator for image augmentation.\n",
    "    \n",
    "    Arguments:\n",
    "    \n",
    "    img : Image that needs to be augmented\n",
    "    folder_name : name of the folder where the images will be saved\n",
    "    image_prefix : prefix for the saved images\n",
    "    N : number of images that will be created through augmentation\n",
    "    \n",
    "    Returns:\n",
    "    \n",
    "    N augmented images with 'image_prefix' saved in 'folder_name'\n",
    "    \n",
    "    Raises:\n",
    "    \n",
    "    Error when input data type is incorrect\n",
    "    \n",
    "    \"\"\"\n",
    "    \n",
    "    assert type(folder_name) == str, ('Wrong Data type', 'folder_name must be a string')\n",
    "    assert type(image_prefix) == str, ('Wrong Data type', 'image_prefix must be a string')\n",
    "    assert type(N) == int, ('Wrong Data type', 'N must be an integer')\n",
    "    \n",
    "    directory = './Multislice'+\"/\"+image_prefix+\"/\"+folder_name\n",
    "    \n",
    "    if not os.path.exists(directory):\n",
    "        os.makedirs(directory)\n",
    "    \n",
    "    datagen = ImageDataGenerator(rotation_range=10,\n",
    "                                 shear_range=0.2,\n",
    "                                 zoom_range=[0.7,1],\n",
    "                                 horizontal_flip=True, \n",
    "                                 vertical_flip=True, \n",
    "                                 fill_mode='constant', \n",
    "                                 cval = 0.0)\n",
    "\n",
    "    \n",
    "    x = img_to_array(img)  # this is a Numpy array with shape (64, 64, 1)\n",
    "    x = x.reshape((1,) + x.shape)  # this is a Numpy array with shape (1, 64, 64, 1)\n",
    "\n",
    "    i = 0\n",
    "    #save the image data into each type of defect directory \n",
    "    for batch in datagen.flow(x, batch_size = 1,\n",
    "                              save_to_dir = directory, save_prefix = image_prefix, save_format = 'png'):\n",
    "        i += 1\n",
    "        if i > N:\n",
    "            break  # otherwise the generator would loop indefinitely\n",
    "    \n",
    "    return"
   ]
  },
  {
   "cell_type": "markdown",
   "metadata": {},
   "source": [
    "## Defining function for adding noise to the images"
   ]
  },
  {
   "cell_type": "code",
   "execution_count": 15,
   "metadata": {},
   "outputs": [],
   "source": [
    "def AddNoiseImage(img, folder_name, image):\n",
    "    \n",
    "    \"\"\"This function uses random_noise from skimage.util \n",
    "    to add gaussian, poisson, speckle and salt and pepper noise to the images.\n",
    "    \n",
    "    Arguments:\n",
    "    \n",
    "    img: the augemented image data you read in\n",
    "    \n",
    "    folder_name: for example, if it is 'Mo', it means the raw data is from folder 'Mo', and the \n",
    "                 image with noise will be saved under 'Mo/Mo_augmented'\n",
    "    image: the filename of augmented image, after adding noise to this image, a new image named '\"noise type\"+image ' \n",
    "           will be saved\n",
    "    \n",
    "    Returns:\n",
    "    \n",
    "    Images with Gaussian, Poisson, Speckle and Salt&Pepper noise added.\n",
    "    \n",
    "    Raises:\n",
    "    \n",
    "    Error when input data type is incorrect\n",
    "    \n",
    "    \"\"\"\n",
    "    \n",
    "    assert type(folder_name) == str, ('Wrong Data type', 'folder_name must be a string')\n",
    "    assert type(image) == str, ('Wrong Data type', 'image must be a string')\n",
    "    \n",
    "    directory = './Multislice' +'/'+ folder_name+'/' +folder_name+'_Augmented' #+'/'+folder_name+'_noise'\n",
    "    \n",
    "    if not os.path.exists(directory):\n",
    "        os.makedirs(directory)\n",
    "    \n",
    "    img_grey = rgb2gray(img)\n",
    "    img_gauss = random_noise(img_grey, mode='gaussian', mean=0., var=0.01)\n",
    "    img_sp = random_noise(img_grey, mode='s&p', salt_vs_pepper=0.5)\n",
    "    img_poisson = random_noise(img_grey, mode='poisson')\n",
    "    img_speckle = random_noise(img_grey, mode = 'speckle')\n",
    "    \n",
    "    imsave(directory+'/'+'gauss_'+image, img_gauss)\n",
    "    imsave(directory+'/'+'s&p_'+image, img_sp)\n",
    "    imsave(directory+'/'+'poisson'+image, img_poisson)\n",
    "    imsave(directory+'/'+'speckle'+image, img_speckle)\n",
    "    \n",
    "    return "
   ]
  },
  {
   "cell_type": "markdown",
   "metadata": {},
   "source": [
    "## Generating all the augmented images along with the noise for all the defect types at once - "
   ]
  },
  {
   "cell_type": "code",
   "execution_count": 4,
   "metadata": {},
   "outputs": [
    {
     "name": "stderr",
     "output_type": "stream",
     "text": [
      "C:\\Users\\Sarthak\\Anaconda3\\lib\\site-packages\\skimage\\util\\dtype.py:122: UserWarning: Possible precision loss when converting from float64 to uint16\n",
      "  .format(dtypeobj_in, dtypeobj_out))\n"
     ]
    }
   ],
   "source": [
    "# the path of the folder includes different type of defects (Multislice)\n",
    "path = \"./Multislice\"\n",
    "folders=os.listdir(path) \n",
    "# folders is the list of subfolders' names (types of defects' names:Mo,Sw,Vs2,Vw,W2S2,Ws)\n",
    "\n",
    "for folder in folders:  #traversing all subfolders(types of defects) in MULTISLICE\n",
    "    if '.' in folder:   #make sure it will not traverse file like '.DS_store'\n",
    "        continue\n",
    "        \n",
    "    path = \"./Multislice\"+\"/\"+folder\n",
    "    files=os.listdir(path)\n",
    "    #files is the list of all raw_images under each type of defect\n",
    "    for file in files: #traversing all raw_images in the defect folders\n",
    "        if file.endswith(\".png\"):\n",
    "            img = imread(path+'/'+file, as_grey = True) # loading the image\n",
    "            AugmentImage(img, folder+'_Augmented', folder, 250) # Augmenting using the function above\n",
    "    \n",
    "    \n",
    "    noisy_path = \"./Multislice\"+\"/\"+folder+'/'+folder+'_Augmented'  \n",
    "    # the path of data_Augmented folder\n",
    "    image=os.listdir(noisy_path)\n",
    "    # image is the list all the augmented data\n",
    "    for i in image:\n",
    "        if i.endswith(\".png\"):\n",
    "            img = imread(noisy_path+'/'+i, as_grey = True)\n",
    "            AddNoiseImage(img, folder, i)   #for each augmented image generate 4 images with gaussion,s&p,poisson and speckle noise\n",
    "            \n",
    "        else: \n",
    "            pass\n",
    "        \n",
    "       "
   ]
  },
  {
   "cell_type": "markdown",
   "metadata": {},
   "source": [
    "## For augmenting individual defect types and adding noise separately, use the code below- \n",
    "\n",
    "### This is written to be used for adding additional defect types later on..."
   ]
  },
  {
   "cell_type": "code",
   "execution_count": 8,
   "metadata": {},
   "outputs": [
    {
     "name": "stderr",
     "output_type": "stream",
     "text": [
      "C:\\Users\\Sarthak\\Anaconda3\\lib\\site-packages\\skimage\\util\\dtype.py:122: UserWarning: Possible precision loss when converting from float64 to uint16\n",
      "  .format(dtypeobj_in, dtypeobj_out))\n"
     ]
    }
   ],
   "source": [
    "# Define path to the defect folder\n",
    "path = './' + 'Multislice' + '/'\n",
    "\n",
    "\"\"\"Change defect folder name here\"\"\"\n",
    "folder = \"Mo\"\n",
    "\n",
    "\"\"\"Change number of augmneted images here\"\"\"\n",
    "N = 250 # Number of Augmented images (Total images after augmentation and adding noise will be 5*N)\n",
    "\n",
    "# Augmenting using the function\n",
    "for filename in glob.iglob(path + folder + '/*.png'):\n",
    "    \n",
    "    img = load_img(filename, grayscale = True)\n",
    "    \n",
    "    AugmentImage(img, folder + '_Augmented', folder , N)\n",
    "    \n",
    "\n",
    "# Adding noise to the augmented images\n",
    "\n",
    "noisy_path = \"./Multislice\"+\"/\"+folder+'/'+ folder+'_Augmented'  \n",
    "\n",
    "# the path of data_Augmented folder\n",
    "image=os.listdir(noisy_path)\n",
    "\n",
    "# image is the list all the augmented data\n",
    "for i in image:\n",
    "    if i.endswith(\".png\"):\n",
    "        \n",
    "        img = imread(noisy_path+'/'+i, as_grey = True)\n",
    "        \n",
    "        AddNoiseImage(img, folder, i)   #for each augmented image generate 4 images with gaussion,s&p,poisson and speckle noise\n",
    "            \n",
    "    else: \n",
    "        pass"
   ]
  },
  {
   "cell_type": "code",
   "execution_count": null,
   "metadata": {},
   "outputs": [],
   "source": []
  }
 ],
 "metadata": {
  "kernelspec": {
   "display_name": "Python 3",
   "language": "python",
   "name": "python3"
  },
  "language_info": {
   "codemirror_mode": {
    "name": "ipython",
    "version": 3
   },
   "file_extension": ".py",
   "mimetype": "text/x-python",
   "name": "python",
   "nbconvert_exporter": "python",
   "pygments_lexer": "ipython3",
   "version": "3.6.4"
  }
 },
 "nbformat": 4,
 "nbformat_minor": 2
}
